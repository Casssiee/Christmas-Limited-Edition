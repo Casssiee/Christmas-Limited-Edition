{
 "cells": [
  {
   "cell_type": "code",
   "execution_count": 9,
   "metadata": {},
   "outputs": [],
   "source": [
    "# https://education.launchcode.org/lchs/appendices/turtles/turtle-properties.html\n",
    "import turtle as t\n",
    "from turtle import *\n",
    "import random as r\n",
    "import time"
   ]
  },
  {
   "cell_type": "code",
   "execution_count": 10,
   "metadata": {},
   "outputs": [],
   "source": [
    "n = 100.0"
   ]
  },
  {
   "cell_type": "code",
   "execution_count": 11,
   "metadata": {},
   "outputs": [],
   "source": [
    "# https://trinket.io/docs/colors change color platte \n",
    "speed(\"fastest\")  # define speed\n",
    "screensize(bg='olive')  # define background color\n",
    "left(90)\n",
    "forward(3 * n)\n",
    "color(\"light steel blue\", \"gold\")  # define color of the big star, outline is light steel blue, fill with gold\n",
    "begin_fill()\n",
    "left(126)\n",
    "\n",
    "# drawing stars\n",
    "for i in range(5):  \n",
    "    forward(n / 5)\n",
    "    right(144)  # degree of star\n",
    "    forward(n / 5)\n",
    "    left(72)  # change degree\n",
    "end_fill()\n",
    "right(126)\n",
    " \n",
    "# draw light bulbs \n",
    "def drawlight():\n",
    "    if r.randint(0, 30) == 0:\n",
    "        color('light salmon')  # define first kind color\n",
    "        circle(6)  \n",
    "    elif r.randint(0, 30) == 1:\n",
    "        color('dark orchid')  # define second kind color\n",
    "        circle(3)  # size of light bulbs\n",
    "    else:\n",
    "        color('dark green')  # branch\n",
    " \n",
    " \n",
    "color(\"dark green\")  # color of branch\n",
    "backward(n * 4.8)\n",
    " \n",
    "# drawing tree\n",
    "def tree(d, s):\n",
    "    if d <= 0: return\n",
    "    forward(s)\n",
    "    tree(d - 1, s * .8)\n",
    "    right(120)\n",
    "    tree(d - 3, s * .5)\n",
    "    drawlight()  \n",
    "    right(120)\n",
    "    tree(d - 3, s * .5)\n",
    "    right(120)\n",
    "    backward(s)\n",
    " \n",
    " \n",
    "tree(15, n)\n",
    "backward(n / 2)\n",
    " \n",
    "for i in range(200):  # repeat bottom decor\n",
    "    a = 200 - 400 * r.random()\n",
    "    b = 10 - 20 * r.random()\n",
    "    up()\n",
    "    forward(b)\n",
    "    left(90)\n",
    "    forward(a)\n",
    "    down()\n",
    "    if r.randint(0, 1) == 0:\n",
    "        color('tomato')\n",
    "    else:\n",
    "        color('wheat')\n",
    "    circle(2)\n",
    "    up()\n",
    "    backward(a)\n",
    "    right(90)\n",
    "    backward(b)\n",
    " \n",
    "t.color(\"dark red\", \"red\")  # font color\n",
    "t.write(\"Merry Christmas \", align=\"center\", font=(\"Comic Sans MS\", 40, \"bold\"))  # font, size, position\n",
    " \n",
    "# drawing snow \n",
    "def drawsnow():  \n",
    "    t.ht()  # ht=hideturtle\n",
    "    t.pensize(2)  \n",
    "    for i in range(200):  # number of snowflake\n",
    "        t.pencolor(\"white\")  \n",
    "        t.pu()  # pu=penup\n",
    "        t.setx(r.randint(-350, 350))  \n",
    "        t.sety(r.randint(-100, 350))  \n",
    "        t.pd()  # pd=pendown\n",
    "        dens = 6  # petal is 6\n",
    "        snowsize = r.randint(1, 10)  \n",
    "        for j in range(dens): \n",
    "            t.fd(int(snowsize)) # snowsize = integer \n",
    "            t.backward(int(snowsize))\n",
    "            t.right(int(360 / dens))  # change angle\n",
    " \n",
    " \n",
    "drawsnow()  \n",
    "t.done()  \n"
   ]
  },
  {
   "cell_type": "code",
   "execution_count": null,
   "metadata": {},
   "outputs": [],
   "source": []
  },
  {
   "cell_type": "code",
   "execution_count": null,
   "metadata": {},
   "outputs": [],
   "source": []
  },
  {
   "cell_type": "code",
   "execution_count": null,
   "metadata": {},
   "outputs": [],
   "source": []
  },
  {
   "cell_type": "code",
   "execution_count": null,
   "metadata": {},
   "outputs": [],
   "source": []
  },
  {
   "cell_type": "code",
   "execution_count": null,
   "metadata": {},
   "outputs": [],
   "source": []
  },
  {
   "cell_type": "code",
   "execution_count": null,
   "metadata": {},
   "outputs": [],
   "source": []
  },
  {
   "cell_type": "code",
   "execution_count": null,
   "metadata": {},
   "outputs": [],
   "source": []
  },
  {
   "cell_type": "code",
   "execution_count": null,
   "metadata": {},
   "outputs": [],
   "source": []
  },
  {
   "cell_type": "code",
   "execution_count": null,
   "metadata": {},
   "outputs": [],
   "source": []
  },
  {
   "cell_type": "code",
   "execution_count": null,
   "metadata": {},
   "outputs": [],
   "source": []
  },
  {
   "cell_type": "code",
   "execution_count": null,
   "metadata": {},
   "outputs": [],
   "source": []
  },
  {
   "cell_type": "code",
   "execution_count": null,
   "metadata": {},
   "outputs": [],
   "source": []
  },
  {
   "cell_type": "code",
   "execution_count": null,
   "metadata": {},
   "outputs": [],
   "source": []
  },
  {
   "cell_type": "code",
   "execution_count": null,
   "metadata": {},
   "outputs": [],
   "source": []
  },
  {
   "cell_type": "code",
   "execution_count": null,
   "metadata": {},
   "outputs": [],
   "source": []
  },
  {
   "cell_type": "code",
   "execution_count": null,
   "metadata": {},
   "outputs": [],
   "source": []
  },
  {
   "cell_type": "code",
   "execution_count": null,
   "metadata": {},
   "outputs": [],
   "source": []
  },
  {
   "cell_type": "code",
   "execution_count": null,
   "metadata": {},
   "outputs": [],
   "source": []
  },
  {
   "cell_type": "code",
   "execution_count": null,
   "metadata": {},
   "outputs": [],
   "source": []
  },
  {
   "cell_type": "code",
   "execution_count": null,
   "metadata": {},
   "outputs": [],
   "source": []
  },
  {
   "cell_type": "code",
   "execution_count": null,
   "metadata": {},
   "outputs": [],
   "source": []
  },
  {
   "cell_type": "code",
   "execution_count": null,
   "metadata": {},
   "outputs": [],
   "source": []
  },
  {
   "cell_type": "code",
   "execution_count": null,
   "metadata": {},
   "outputs": [],
   "source": []
  },
  {
   "cell_type": "code",
   "execution_count": null,
   "metadata": {},
   "outputs": [],
   "source": []
  },
  {
   "cell_type": "code",
   "execution_count": null,
   "metadata": {},
   "outputs": [],
   "source": []
  },
  {
   "cell_type": "code",
   "execution_count": null,
   "metadata": {},
   "outputs": [],
   "source": []
  },
  {
   "cell_type": "code",
   "execution_count": null,
   "metadata": {},
   "outputs": [],
   "source": []
  },
  {
   "cell_type": "code",
   "execution_count": null,
   "metadata": {},
   "outputs": [],
   "source": []
  },
  {
   "cell_type": "code",
   "execution_count": null,
   "metadata": {},
   "outputs": [],
   "source": []
  },
  {
   "cell_type": "code",
   "execution_count": null,
   "metadata": {},
   "outputs": [],
   "source": []
  },
  {
   "cell_type": "code",
   "execution_count": null,
   "metadata": {},
   "outputs": [],
   "source": []
  },
  {
   "cell_type": "code",
   "execution_count": null,
   "metadata": {},
   "outputs": [],
   "source": []
  }
 ],
 "metadata": {
  "kernelspec": {
   "display_name": "Python 3",
   "language": "python",
   "name": "python3"
  },
  "language_info": {
   "codemirror_mode": {
    "name": "ipython",
    "version": 3
   },
   "file_extension": ".py",
   "mimetype": "text/x-python",
   "name": "python",
   "nbconvert_exporter": "python",
   "pygments_lexer": "ipython3",
   "version": "3.8.5"
  }
 },
 "nbformat": 4,
 "nbformat_minor": 4
}
